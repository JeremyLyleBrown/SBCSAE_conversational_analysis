{
 "cells": [
  {
   "cell_type": "markdown",
   "metadata": {},
   "source": [
    "## Conversational Analysis: Data Import, Exploration, and Cleaning"
   ]
  },
  {
   "cell_type": "markdown",
   "metadata": {},
   "source": [
    "In this notebook, we'll work through the process of importing the [Santa Barbara Corpus of Spoken American English](http://www.linguistics.ucsb.edu/research/santa-barbara-corpus) into Python and perform some preliminary data cleaning.\n",
    "\n",
    "Before running this notebook, make sure that the downloaded corpus file is unzipped and that the `SBCSAE` folder is located in the same directory as this notebook. For more information, see the `README.md` file on GitHub (or, optionally, in this directory if you're running the notebook locally)."
   ]
  },
  {
   "cell_type": "markdown",
   "metadata": {},
   "source": [
    "### Initial Library/Package Imports"
   ]
  },
  {
   "cell_type": "code",
   "execution_count": 1,
   "metadata": {},
   "outputs": [],
   "source": [
    "import pandas as pd\n",
    "import numpy as np\n",
    "import math\n",
    "import pylangacq as pla\n",
    "import os\n",
    "import re\n",
    "import matplotlib.pyplot as plt"
   ]
  },
  {
   "cell_type": "markdown",
   "metadata": {},
   "source": [
    "### Importing/Reading the Corpus"
   ]
  },
  {
   "cell_type": "code",
   "execution_count": 2,
   "metadata": {},
   "outputs": [],
   "source": [
    "sbc = pla.read_chat('SBCSAE/*.cha')"
   ]
  },
  {
   "cell_type": "code",
   "execution_count": 3,
   "metadata": {},
   "outputs": [
    {
     "name": "stdout",
     "output_type": "stream",
     "text": [
      "60\n"
     ]
    }
   ],
   "source": [
    "print(sbc.number_of_files())"
   ]
  },
  {
   "cell_type": "markdown",
   "metadata": {},
   "source": [
    "By default, the .filenames() method will return the filenames in `set` format, so we'll convert it to an unordered list, which we'll sort as well."
   ]
  },
  {
   "cell_type": "code",
   "execution_count": 4,
   "metadata": {},
   "outputs": [
    {
     "name": "stdout",
     "output_type": "stream",
     "text": [
      "/Users/jeremy/ds/metis/coursework/conversation_analysis/SBCSAE/SBC001.cha\n"
     ]
    }
   ],
   "source": [
    "filenames = list(sbc.filenames())\n",
    "filenames.sort()\n",
    "print(filenames[0]) # let's take a look at the filename format - it should be absolute"
   ]
  },
  {
   "cell_type": "markdown",
   "metadata": {},
   "source": [
    "Organize words in order of files and view them to get a sense of the data (words/conversations)."
   ]
  },
  {
   "cell_type": "code",
   "execution_count": 5,
   "metadata": {},
   "outputs": [
    {
     "name": "stdout",
     "output_type": "stream",
     "text": [
      "['So', 'you', \"don't\", 'need', 'to', 'go', 'borrow', 'equipment', 'from', 'anybody', 'to', '/.', 'to', 'do', 'the', 'feet', '?', '⌈', 'Do', 'the', 'hooves', '⌉', '?', '⌊', '⌋']\n"
     ]
    }
   ],
   "source": [
    "words_by_files = sbc.words(by_files=True) # dict(filename: word list for that file)\n",
    "print(words_by_files[filenames[0]][:25]) # view first 50 words of first file in filenames list"
   ]
  },
  {
   "cell_type": "markdown",
   "metadata": {},
   "source": [
    "Notice that there are some symbols in the corpus that are considered as \"words\" - we'll need to clean this up. The `PyLangAcq` package actually preserves the linguistic encodings of conversation participants' utterances from the `.cha` files, which is a wonderful feature, though we'll just stay concerned with the words themselves for the sake of this project. This means we'll need to remove these linguistic symbols from our corpus in order to perform topic modeling properly."
   ]
  },
  {
   "cell_type": "markdown",
   "metadata": {},
   "source": [
    "### Exploring the Data"
   ]
  },
  {
   "cell_type": "markdown",
   "metadata": {},
   "source": [
    "How many words are in each file/conversation? Let's find out:"
   ]
  },
  {
   "cell_type": "code",
   "execution_count": 6,
   "metadata": {},
   "outputs": [],
   "source": [
    "conv_word_totals = []\n",
    "for filename in sorted(filenames):\n",
    "    conv_word_totals.append((len(words_by_files[filename]), os.path.basename(filename)))\n",
    "word_totals = list((x for (x, y) in sorted(conv_word_totals)))\n",
    "conv_filenames = list((y for (x, y) in sorted(conv_word_totals)))"
   ]
  },
  {
   "cell_type": "code",
   "execution_count": 7,
   "metadata": {},
   "outputs": [
    {
     "data": {
      "image/png": "[encoded data removed]",
      "text/plain": [
       "<Figure size 1080x360 with 1 Axes>"
      ]
     },
     "metadata": {},
     "output_type": "display_data"
    }
   ],
   "source": [
    "y_pos = np.arange(len(conv_filenames))\n",
    "\n",
    "plt.figure(figsize = (15, 5))\n",
    "\n",
    "plt.bar(y_pos, word_totals, align = 'center', alpha = 0.5)\n",
    "plt.xticks(y_pos, conv_filenames, rotation = 90)\n",
    "plt.ylabel('Words')\n",
    "plt.title('Words Per Conversation')\n",
    "\n",
    "plt.show()"
   ]
  },
  {
   "cell_type": "code",
   "execution_count": 8,
   "metadata": {},
   "outputs": [
    {
     "data": {
      "image/png": "[encoded data removed]",
      "text/plain": [
       "<Figure size 360x360 with 1 Axes>"
      ]
     },
     "metadata": {},
     "output_type": "display_data"
    }
   ],
   "source": [
    "# add histogram of ranges of word frequency\n",
    "bins = np.linspace(math.ceil(min(word_totals)), \n",
    "                   math.floor(max(word_totals)),\n",
    "                   10)\n",
    "\n",
    "plt.figure(figsize = (5, 5))\n",
    "plt.xlim([min(word_totals)-1000, max(word_totals)+1000])\n",
    "plt.hist(word_totals, bins=bins, alpha=0.5, edgecolor=\"k\")\n",
    "plt.title('Conversation Length Frequency')\n",
    "plt.xlabel('Number of Words')\n",
    "plt.ylabel('Number of Conversations')\n",
    "\n",
    "plt.show()"
   ]
  },
  {
   "cell_type": "markdown",
   "metadata": {},
   "source": [
    "*Note: need to expand EDA.*\n",
    "\n",
    "*To-do: Measures of central tendency, spread, histograms, and correlations between:*\n",
    "\n",
    "- *Number of words per conversation*\n",
    "- *Number of words per speaker (across all conversations)*\n",
    "- *Number of words per speaker (between conversations - can see whether there's a tendency for one speaker to dominate a conversation)*\n",
    "- *Number of words per utterance (across all conversations)*\n",
    "- *Number of words per utterance (between conversations)*\n",
    "- *Number of words per utterance, per speaker*"
   ]
  },
  {
   "cell_type": "markdown",
   "metadata": {},
   "source": [
    "Can we find out the age of each speaker? Unfortunately, no."
   ]
  },
  {
   "cell_type": "code",
   "execution_count": 9,
   "metadata": {},
   "outputs": [
    {
     "name": "stdout",
     "output_type": "stream",
     "text": [
      "dict_values([None, None, None, None, None, None, None, None, None, None, None, None, None, None, None, None, None, None, None, None, None, None, None, None, None, None, None, None, None, None, None, None, None, None, None, None, None, None, None, None, None, None, None, None, None, None, None, None, None, None, None, None, None, None, None, None, None, None, None, None])\n"
     ]
    }
   ],
   "source": [
    "print(sbc.age().values())\n",
    "# Prints None because none of the participants' ages were recorded\n",
    "# Would have been cool to see if/how speakers of different ages use dialogue acts"
   ]
  },
  {
   "cell_type": "markdown",
   "metadata": {},
   "source": [
    "Let's explore the structure of the data by going through a single conversation. To begin, let's put a single file into a reader so we can work with it programatically."
   ]
  },
  {
   "cell_type": "code",
   "execution_count": 10,
   "metadata": {},
   "outputs": [],
   "source": [
    "sbc_1 = pla.read_chat(filenames[0])"
   ]
  },
  {
   "cell_type": "markdown",
   "metadata": {},
   "source": [
    "Use the `.sents()` method to explore just the sentences of a given conversation:"
   ]
  },
  {
   "cell_type": "code",
   "execution_count": 11,
   "metadata": {},
   "outputs": [
    {
     "name": "stdout",
     "output_type": "stream",
     "text": [
      "[['So', 'you', \"don't\", 'need', 'to', 'go', 'borrow', 'equipment', 'from', 'anybody', 'to', '/.'], ['to', 'do', 'the', 'feet', '?']]\n"
     ]
    }
   ],
   "source": [
    "all_sents = sbc_1.sents()\n",
    "print(all_sents[:2])"
   ]
  },
  {
   "cell_type": "markdown",
   "metadata": {},
   "source": [
    "Use the `.participant_codes()` method to view a conversation's participant codes, usually an all-caps abbreviation of a participant's name. (Notice that the `'ENV'` code represents sound from the surrounding environment in a given conversation, as this corpus consists of recordings \"in the wild,\" not in a lab or other controlled environment.)"
   ]
  },
  {
   "cell_type": "code",
   "execution_count": 12,
   "metadata": {},
   "outputs": [
    {
     "name": "stdout",
     "output_type": "stream",
     "text": [
      "['DORI', 'LYNN', 'LENO', 'ENV']\n"
     ]
    }
   ],
   "source": [
    "participants = list(sbc_1.participant_codes())\n",
    "print(participants)"
   ]
  },
  {
   "cell_type": "code",
   "execution_count": 13,
   "metadata": {},
   "outputs": [],
   "source": [
    "# To get sentences by speaker alone. Not necessary at this step\n",
    "\n",
    "# p_sents = []\n",
    "# for p in participants:\n",
    "#     p_sents.append([p, sbc_1.sents(participant=p)])\n",
    "# p_sents[2][1][0]"
   ]
  },
  {
   "cell_type": "markdown",
   "metadata": {},
   "source": [
    "### Data Cleaning"
   ]
  },
  {
   "cell_type": "markdown",
   "metadata": {},
   "source": [
    "Let's examine one conversation/utterance and test the built-in `clean_utterance()` function:"
   ]
  },
  {
   "cell_type": "code",
   "execution_count": 14,
   "metadata": {},
   "outputs": [
    {
     "name": "stdout",
     "output_type": "stream",
     "text": [
      "⌊&=in We're not⌋ gonna do the feet today I'm gonna wait till like early in the morning: to do those cause y- +/.\n",
      "⌊&=in We're not⌋ gonna do the feet today I'm gonna wait till like early in the morning: to do those cause y- +/.\n"
     ]
    }
   ],
   "source": [
    "print(sbc_1.utterances()[7][1])\n",
    "print(pla.util.clean_utterance(sbc_1.utterances()[7][1]))"
   ]
  },
  {
   "cell_type": "markdown",
   "metadata": {},
   "source": [
    "I can't see any difference between the vanilla utterance and \"cleaned\" utterance, but let's check this programmatically to make certain that the `pla.util.clean_utterance()` function isn't altering the string (though we'd think that it would):"
   ]
  },
  {
   "cell_type": "code",
   "execution_count": 15,
   "metadata": {},
   "outputs": [
    {
     "name": "stdout",
     "output_type": "stream",
     "text": [
      "True\n"
     ]
    }
   ],
   "source": [
    "is_not_cleaned = (sbc_1.utterances()[7][1] == pla.util.clean_utterance(sbc_1.utterances()[7][1]))\n",
    "print(is_not_cleaned)"
   ]
  },
  {
   "cell_type": "markdown",
   "metadata": {},
   "source": [
    "Okay, it's the same, in this case - we'll still use the function later down the line in case it picks up on anything else. Here's [the documentation for `pla.util.clean_utterance()`](http://pylangacq.org/_modules/pylangacq/util.html#clean_utterance).\n",
    "\n",
    "Let's explore the data types before putting the utterances into a DataFrame:"
   ]
  },
  {
   "cell_type": "code",
   "execution_count": 16,
   "metadata": {},
   "outputs": [],
   "source": [
    "conv1 = sbc_1.utterances()"
   ]
  },
  {
   "cell_type": "code",
   "execution_count": 17,
   "metadata": {},
   "outputs": [
    {
     "name": "stdout",
     "output_type": "stream",
     "text": [
      "<class 'list'>\n"
     ]
    }
   ],
   "source": [
    "print(type(conv1))"
   ]
  },
  {
   "cell_type": "code",
   "execution_count": 18,
   "metadata": {},
   "outputs": [
    {
     "name": "stdout",
     "output_type": "stream",
     "text": [
      "<class 'tuple'>\n"
     ]
    }
   ],
   "source": [
    "print(type(conv1[1]))"
   ]
  },
  {
   "cell_type": "code",
   "execution_count": 19,
   "metadata": {},
   "outputs": [],
   "source": [
    "df = pd.DataFrame(conv1, columns = ['P_Code', 'Utterance'])"
   ]
  },
  {
   "cell_type": "code",
   "execution_count": 20,
   "metadata": {},
   "outputs": [
    {
     "name": "stdout",
     "output_type": "stream",
     "text": [
      "667\n"
     ]
    }
   ],
   "source": [
    "print(len(df))"
   ]
  },
  {
   "cell_type": "code",
   "execution_count": 21,
   "metadata": {},
   "outputs": [
    {
     "name": "stdout",
     "output_type": "stream",
     "text": [
      "⌊ ⌋ ΫWell we're gonna have to find somewhere to get somethingΫ .\n"
     ]
    }
   ],
   "source": [
    "print(df['Utterance'][3])"
   ]
  },
  {
   "cell_type": "markdown",
   "metadata": {},
   "source": [
    "The following function will clean the text of an utterance (string) of any extraneous linguistic coding. Many of the below symbols taken from ~~here: https://talkbank.org/CABank/codes.html~~\n",
    "\n",
    "... here: https://talkbank.org/manuals/CHAT.pdf#page=87 - the above link seems to be dead."
   ]
  },
  {
   "cell_type": "code",
   "execution_count": 22,
   "metadata": {},
   "outputs": [],
   "source": [
    "def clean_text(utterance):\n",
    "    \"\"\" Takes a string and returns a cleaned version of the same string without linguistic symbols.\n",
    "    \"\"\"\n",
    "    # Do this first: remove symbols, numbers, and consecutive 'x's\n",
    "    cleaned_string = re.sub(r'[⌊⌋+/&=Ϋ:⌈⌉↑↓⇗↗→↘⇘∞≈≋≡∙∆∇⁎⁇°◉▁▔☺♋∬∲§∾↻Ἡ„‡ạʰāʔʕšˈˌ‹›〔〕“”]|\\d|xx|XX', '', utterance)\n",
    "    \n",
    "    # now try the built-in text cleaning function\n",
    "    cleaned_string = pla.util.clean_utterance(cleaned_string)\n",
    "    \n",
    "    # Repeat the removal of consecutive 'x's\n",
    "    cleaned_string = re.sub(r'xx|XX', '', cleaned_string)\n",
    "    \n",
    "    return(cleaned_string)"
   ]
  },
  {
   "cell_type": "code",
   "execution_count": 23,
   "metadata": {},
   "outputs": [],
   "source": [
    "df['Utterance'] = df['Utterance'].apply(clean_text)"
   ]
  },
  {
   "cell_type": "markdown",
   "metadata": {},
   "source": [
    "Let's peak at our sample conversation DataFrame:"
   ]
  },
  {
   "cell_type": "code",
   "execution_count": 24,
   "metadata": {},
   "outputs": [
    {
     "data": {
      "text/html": [
       "<div>\n",
       "<style scoped>\n",
       "    .dataframe tbody tr th:only-of-type {\n",
       "        vertical-align: middle;\n",
       "    }\n",
       "\n",
       "    .dataframe tbody tr th {\n",
       "        vertical-align: top;\n",
       "    }\n",
       "\n",
       "    .dataframe thead th {\n",
       "        text-align: right;\n",
       "    }\n",
       "</style>\n",
       "<table border=\"1\" class=\"dataframe\">\n",
       "  <thead>\n",
       "    <tr style=\"text-align: right;\">\n",
       "      <th></th>\n",
       "      <th>P_Code</th>\n",
       "      <th>Utterance</th>\n",
       "    </tr>\n",
       "  </thead>\n",
       "  <tbody>\n",
       "    <tr>\n",
       "      <th>0</th>\n",
       "      <td>LENO</td>\n",
       "      <td>So you don't need to go borrow equipment from ...</td>\n",
       "    </tr>\n",
       "    <tr>\n",
       "      <th>1</th>\n",
       "      <td>LENO</td>\n",
       "      <td>to do the feet ?</td>\n",
       "    </tr>\n",
       "    <tr>\n",
       "      <th>2</th>\n",
       "      <td>LENO</td>\n",
       "      <td>Do the hooves ?</td>\n",
       "    </tr>\n",
       "    <tr>\n",
       "      <th>3</th>\n",
       "      <td>LYNN</td>\n",
       "      <td>Well we're gonna have to find somewhere to get...</td>\n",
       "    </tr>\n",
       "    <tr>\n",
       "      <th>4</th>\n",
       "      <td>DORI</td>\n",
       "      <td>So Mae- ...</td>\n",
       "    </tr>\n",
       "    <tr>\n",
       "      <th>5</th>\n",
       "      <td>LYNN</td>\n",
       "      <td>I'm gonna ...</td>\n",
       "    </tr>\n",
       "    <tr>\n",
       "      <th>6</th>\n",
       "      <td>DORI</td>\n",
       "      <td>Mae Lynne .</td>\n",
       "    </tr>\n",
       "    <tr>\n",
       "      <th>7</th>\n",
       "      <td>LYNN</td>\n",
       "      <td>in We're not gonna do the feet today I'm gonna...</td>\n",
       "    </tr>\n",
       "    <tr>\n",
       "      <th>8</th>\n",
       "      <td>LYNN</td>\n",
       "      <td>I mean you get so tired .</td>\n",
       "    </tr>\n",
       "    <tr>\n",
       "      <th>9</th>\n",
       "      <td>LYNN</td>\n",
       "      <td>n- you just it takes uh .</td>\n",
       "    </tr>\n",
       "    <tr>\n",
       "      <th>10</th>\n",
       "      <td>LYNN</td>\n",
       "      <td>well it takes me longer than most people cause...</td>\n",
       "    </tr>\n",
       "    <tr>\n",
       "      <th>11</th>\n",
       "      <td>LYNN</td>\n",
       "      <td>You know .</td>\n",
       "    </tr>\n",
       "    <tr>\n",
       "      <th>12</th>\n",
       "      <td>LYNN</td>\n",
       "      <td>I mean uh Oh .</td>\n",
       "    </tr>\n",
       "    <tr>\n",
       "      <th>13</th>\n",
       "      <td>LYNN</td>\n",
       "      <td>I mean I trim horses and stuff like that but I...</td>\n",
       "    </tr>\n",
       "    <tr>\n",
       "      <th>14</th>\n",
       "      <td>LYNN</td>\n",
       "      <td>But you know they do it for a living .</td>\n",
       "    </tr>\n",
       "    <tr>\n",
       "      <th>15</th>\n",
       "      <td>LYNN</td>\n",
       "      <td>you know most people that you would get to tri...</td>\n",
       "    </tr>\n",
       "    <tr>\n",
       "      <th>16</th>\n",
       "      <td>LYNN</td>\n",
       "      <td>and I'm not that good or and I'm not very stro...</td>\n",
       "    </tr>\n",
       "    <tr>\n",
       "      <th>17</th>\n",
       "      <td>LENO</td>\n",
       "      <td>Did they train you- ...</td>\n",
       "    </tr>\n",
       "    <tr>\n",
       "      <th>18</th>\n",
       "      <td>LYNN</td>\n",
       "      <td>yeah .</td>\n",
       "    </tr>\n",
       "    <tr>\n",
       "      <th>19</th>\n",
       "      <td>LENO</td>\n",
       "      <td>Did they train you that .</td>\n",
       "    </tr>\n",
       "    <tr>\n",
       "      <th>20</th>\n",
       "      <td>LENO</td>\n",
       "      <td>.</td>\n",
       "    </tr>\n",
       "    <tr>\n",
       "      <th>21</th>\n",
       "      <td>LYNN</td>\n",
       "      <td>yeah .</td>\n",
       "    </tr>\n",
       "    <tr>\n",
       "      <th>22</th>\n",
       "      <td>LYNN</td>\n",
       "      <td>yeah .</td>\n",
       "    </tr>\n",
       "    <tr>\n",
       "      <th>23</th>\n",
       "      <td>LENO</td>\n",
       "      <td>So you have your own equipment .</td>\n",
       "    </tr>\n",
       "    <tr>\n",
       "      <th>24</th>\n",
       "      <td>LYNN</td>\n",
       "      <td>.</td>\n",
       "    </tr>\n",
       "  </tbody>\n",
       "</table>\n",
       "</div>"
      ],
      "text/plain": [
       "   P_Code                                          Utterance\n",
       "0    LENO  So you don't need to go borrow equipment from ...\n",
       "1    LENO                                   to do the feet ?\n",
       "2    LENO                                    Do the hooves ?\n",
       "3    LYNN  Well we're gonna have to find somewhere to get...\n",
       "4    DORI                                        So Mae- ...\n",
       "5    LYNN                                      I'm gonna ...\n",
       "6    DORI                                        Mae Lynne .\n",
       "7    LYNN  in We're not gonna do the feet today I'm gonna...\n",
       "8    LYNN                          I mean you get so tired .\n",
       "9    LYNN                          n- you just it takes uh .\n",
       "10   LYNN  well it takes me longer than most people cause...\n",
       "11   LYNN                                         You know .\n",
       "12   LYNN                                     I mean uh Oh .\n",
       "13   LYNN  I mean I trim horses and stuff like that but I...\n",
       "14   LYNN             But you know they do it for a living .\n",
       "15   LYNN  you know most people that you would get to tri...\n",
       "16   LYNN  and I'm not that good or and I'm not very stro...\n",
       "17   LENO                            Did they train you- ...\n",
       "18   LYNN                                             yeah .\n",
       "19   LENO                          Did they train you that .\n",
       "20   LENO                                                  .\n",
       "21   LYNN                                             yeah .\n",
       "22   LYNN                                             yeah .\n",
       "23   LENO                   So you have your own equipment .\n",
       "24   LYNN                                                  ."
      ]
     },
     "execution_count": 24,
     "metadata": {},
     "output_type": "execute_result"
    }
   ],
   "source": [
    "df.head(25)"
   ]
  },
  {
   "cell_type": "code",
   "execution_count": 25,
   "metadata": {},
   "outputs": [
    {
     "data": {
      "text/html": [
       "<div>\n",
       "<style scoped>\n",
       "    .dataframe tbody tr th:only-of-type {\n",
       "        vertical-align: middle;\n",
       "    }\n",
       "\n",
       "    .dataframe tbody tr th {\n",
       "        vertical-align: top;\n",
       "    }\n",
       "\n",
       "    .dataframe thead th {\n",
       "        text-align: right;\n",
       "    }\n",
       "</style>\n",
       "<table border=\"1\" class=\"dataframe\">\n",
       "  <thead>\n",
       "    <tr style=\"text-align: right;\">\n",
       "      <th></th>\n",
       "      <th>P_Code</th>\n",
       "      <th>Utterance</th>\n",
       "    </tr>\n",
       "  </thead>\n",
       "  <tbody>\n",
       "    <tr>\n",
       "      <th>642</th>\n",
       "      <td>LYNN</td>\n",
       "      <td>This is the type of person that is like a herm...</td>\n",
       "    </tr>\n",
       "    <tr>\n",
       "      <th>643</th>\n",
       "      <td>LYNN</td>\n",
       "      <td>I don't know what you'd call him .</td>\n",
       "    </tr>\n",
       "    <tr>\n",
       "      <th>644</th>\n",
       "      <td>LYNN</td>\n",
       "      <td>.</td>\n",
       "    </tr>\n",
       "    <tr>\n",
       "      <th>645</th>\n",
       "      <td>DORI</td>\n",
       "      <td>Well they were rai- raised backward .</td>\n",
       "    </tr>\n",
       "    <tr>\n",
       "      <th>646</th>\n",
       "      <td>LYNN</td>\n",
       "      <td>He's like ...</td>\n",
       "    </tr>\n",
       "    <tr>\n",
       "      <th>647</th>\n",
       "      <td>DORI</td>\n",
       "      <td>Uh back woods .</td>\n",
       "    </tr>\n",
       "    <tr>\n",
       "      <th>648</th>\n",
       "      <td>LYNN</td>\n",
       "      <td>Back woodsy .</td>\n",
       "    </tr>\n",
       "    <tr>\n",
       "      <th>649</th>\n",
       "      <td>DORI</td>\n",
       "      <td>raised in the mountains .</td>\n",
       "    </tr>\n",
       "    <tr>\n",
       "      <th>650</th>\n",
       "      <td>DORI</td>\n",
       "      <td>didn't d- ...</td>\n",
       "    </tr>\n",
       "    <tr>\n",
       "      <th>651</th>\n",
       "      <td>LYNN</td>\n",
       "      <td>Never came down out of the mountains .</td>\n",
       "    </tr>\n",
       "    <tr>\n",
       "      <th>652</th>\n",
       "      <td>LYNN</td>\n",
       "      <td>He doesn't have any .</td>\n",
       "    </tr>\n",
       "    <tr>\n",
       "      <th>653</th>\n",
       "      <td>LYNN</td>\n",
       "      <td>He doesn't know what's going on in this world .</td>\n",
       "    </tr>\n",
       "    <tr>\n",
       "      <th>654</th>\n",
       "      <td>DORI</td>\n",
       "      <td>No he doesn't .</td>\n",
       "    </tr>\n",
       "    <tr>\n",
       "      <th>655</th>\n",
       "      <td>DORI</td>\n",
       "      <td>He was just not properly brought up .</td>\n",
       "    </tr>\n",
       "    <tr>\n",
       "      <th>656</th>\n",
       "      <td>LYNN</td>\n",
       "      <td>He .</td>\n",
       "    </tr>\n",
       "    <tr>\n",
       "      <th>657</th>\n",
       "      <td>LYNN</td>\n",
       "      <td>I mean he wouldn't even have the slightest idea .</td>\n",
       "    </tr>\n",
       "    <tr>\n",
       "      <th>658</th>\n",
       "      <td>LENO</td>\n",
       "      <td>Where was he from .</td>\n",
       "    </tr>\n",
       "    <tr>\n",
       "      <th>659</th>\n",
       "      <td>DORI</td>\n",
       "      <td>Um I forget .</td>\n",
       "    </tr>\n",
       "    <tr>\n",
       "      <th>660</th>\n",
       "      <td>LYNN</td>\n",
       "      <td>Idaho ?</td>\n",
       "    </tr>\n",
       "    <tr>\n",
       "      <th>661</th>\n",
       "      <td>DORI</td>\n",
       "      <td>Idaho and .</td>\n",
       "    </tr>\n",
       "    <tr>\n",
       "      <th>662</th>\n",
       "      <td>LYNN</td>\n",
       "      <td>up in the mountains In Idaho .</td>\n",
       "    </tr>\n",
       "    <tr>\n",
       "      <th>663</th>\n",
       "      <td>DORI</td>\n",
       "      <td>X Um Macley and .</td>\n",
       "    </tr>\n",
       "    <tr>\n",
       "      <th>664</th>\n",
       "      <td>LYNN</td>\n",
       "      <td>Arco ?</td>\n",
       "    </tr>\n",
       "    <tr>\n",
       "      <th>665</th>\n",
       "      <td>LYNN</td>\n",
       "      <td>Isn't that where Deb kinda was ?</td>\n",
       "    </tr>\n",
       "    <tr>\n",
       "      <th>666</th>\n",
       "      <td>LYNN</td>\n",
       "      <td>But he's just really really really strange .</td>\n",
       "    </tr>\n",
       "  </tbody>\n",
       "</table>\n",
       "</div>"
      ],
      "text/plain": [
       "    P_Code                                          Utterance\n",
       "642   LYNN  This is the type of person that is like a herm...\n",
       "643   LYNN                 I don't know what you'd call him .\n",
       "644   LYNN                                                  .\n",
       "645   DORI              Well they were rai- raised backward .\n",
       "646   LYNN                                      He's like ...\n",
       "647   DORI                                    Uh back woods .\n",
       "648   LYNN                                      Back woodsy .\n",
       "649   DORI                          raised in the mountains .\n",
       "650   DORI                                      didn't d- ...\n",
       "651   LYNN             Never came down out of the mountains .\n",
       "652   LYNN                              He doesn't have any .\n",
       "653   LYNN    He doesn't know what's going on in this world .\n",
       "654   DORI                                    No he doesn't .\n",
       "655   DORI              He was just not properly brought up .\n",
       "656   LYNN                                               He .\n",
       "657   LYNN  I mean he wouldn't even have the slightest idea .\n",
       "658   LENO                                Where was he from .\n",
       "659   DORI                                      Um I forget .\n",
       "660   LYNN                                            Idaho ?\n",
       "661   DORI                                        Idaho and .\n",
       "662   LYNN                     up in the mountains In Idaho .\n",
       "663   DORI                                  X Um Macley and .\n",
       "664   LYNN                                             Arco ?\n",
       "665   LYNN                   Isn't that where Deb kinda was ?\n",
       "666   LYNN       But he's just really really really strange ."
      ]
     },
     "execution_count": 25,
     "metadata": {},
     "output_type": "execute_result"
    }
   ],
   "source": [
    "df.tail(25)"
   ]
  },
  {
   "cell_type": "markdown",
   "metadata": {},
   "source": [
    "We need a way to get rid of empty utterances. We'll deal with this in the next notebook."
   ]
  },
  {
   "cell_type": "markdown",
   "metadata": {},
   "source": [
    "### Creating new DataFrames for all conversations"
   ]
  },
  {
   "cell_type": "markdown",
   "metadata": {},
   "source": [
    "The following function will convert a conversation to a DataFrame, taking a filename and returning a DataFrame of the respective conversation's utterances as rows."
   ]
  },
  {
   "cell_type": "code",
   "execution_count": 26,
   "metadata": {},
   "outputs": [],
   "source": [
    "def conv_to_df(filepath):\n",
    "    \n",
    "    # import from specific file\n",
    "    reader = pla.read_chat(filepath)\n",
    "    \n",
    "    # get the utterances as a list of tuples\n",
    "    conv = reader.utterances()\n",
    "    \n",
    "    # put this list of tuples into a DataFrame\n",
    "    df = pd.DataFrame(conv, columns = ['P_Code', 'Utterance'])\n",
    "    \n",
    "    # clean utterances of linguistic coding\n",
    "    df['Utterance'] = df['Utterance'].apply(clean_text)\n",
    "    \n",
    "    return df"
   ]
  },
  {
   "cell_type": "markdown",
   "metadata": {},
   "source": [
    "Let's make a list containing the DataFrames of each conversation:"
   ]
  },
  {
   "cell_type": "code",
   "execution_count": 27,
   "metadata": {},
   "outputs": [],
   "source": [
    "corpus_dfs = []\n",
    "for f in range(len(filenames)):\n",
    "    corpus_dfs.append(conv_to_df(sorted(filenames)[f]))"
   ]
  },
  {
   "cell_type": "markdown",
   "metadata": {},
   "source": [
    "Another peak at what a DataFrame of utterances looks like:"
   ]
  },
  {
   "cell_type": "code",
   "execution_count": 28,
   "metadata": {},
   "outputs": [
    {
     "data": {
      "text/html": [
       "<div>\n",
       "<style scoped>\n",
       "    .dataframe tbody tr th:only-of-type {\n",
       "        vertical-align: middle;\n",
       "    }\n",
       "\n",
       "    .dataframe tbody tr th {\n",
       "        vertical-align: top;\n",
       "    }\n",
       "\n",
       "    .dataframe thead th {\n",
       "        text-align: right;\n",
       "    }\n",
       "</style>\n",
       "<table border=\"1\" class=\"dataframe\">\n",
       "  <thead>\n",
       "    <tr style=\"text-align: right;\">\n",
       "      <th></th>\n",
       "      <th>P_Code</th>\n",
       "      <th>Utterance</th>\n",
       "    </tr>\n",
       "  </thead>\n",
       "  <tbody>\n",
       "    <tr>\n",
       "      <th>0</th>\n",
       "      <td>ALAN</td>\n",
       "      <td>I got a story to tell you it's a shaggy dog st...</td>\n",
       "    </tr>\n",
       "    <tr>\n",
       "      <th>1</th>\n",
       "      <td>JON</td>\n",
       "      <td>.</td>\n",
       "    </tr>\n",
       "    <tr>\n",
       "      <th>2</th>\n",
       "      <td>ALAN</td>\n",
       "      <td>It must've been four to six months after my da...</td>\n",
       "    </tr>\n",
       "    <tr>\n",
       "      <th>3</th>\n",
       "      <td>ALAN</td>\n",
       "      <td>That's how I remember it he died in sixty-s- ...</td>\n",
       "    </tr>\n",
       "    <tr>\n",
       "      <th>4</th>\n",
       "      <td>JON</td>\n",
       "      <td>Oh God .</td>\n",
       "    </tr>\n",
       "  </tbody>\n",
       "</table>\n",
       "</div>"
      ],
      "text/plain": [
       "  P_Code                                          Utterance\n",
       "0   ALAN  I got a story to tell you it's a shaggy dog st...\n",
       "1    JON                                                  .\n",
       "2   ALAN  It must've been four to six months after my da...\n",
       "3   ALAN   That's how I remember it he died in sixty-s- ...\n",
       "4    JON                                           Oh God ."
      ]
     },
     "execution_count": 28,
     "metadata": {},
     "output_type": "execute_result"
    }
   ],
   "source": [
    "corpus_dfs[59][:5]"
   ]
  },
  {
   "cell_type": "markdown",
   "metadata": {},
   "source": [
    "Now we have all our conversations in DataFrames, with each row as an utterance. Each conversation DataFrame is stored in a single list object for simplicity.\n",
    "\n",
    "*(Ideally we'd store this in a single DataFrame and save it as a `.csv` file - something I need to refactor and make associated changes in the next notebook.)*\n",
    "\n",
    "We can save this file and work with it in a new notebook, in which we'll get to the nitty-gritty of the NLP details and  to do more NLP and make some models!"
   ]
  },
  {
   "cell_type": "code",
   "execution_count": 29,
   "metadata": {},
   "outputs": [],
   "source": [
    "# import pickle here to easily save the list object and work with it in a new notebook\n",
    "# NOTE: best to refactor the code and simply save one DataFrame as a .csv file - on to-do\n",
    "# ... with a new column for \"Conversation ID\"\n",
    "import pickle"
   ]
  },
  {
   "cell_type": "code",
   "execution_count": 30,
   "metadata": {},
   "outputs": [],
   "source": [
    "with open('corpus_dataframes.p', 'wb') as f:\n",
    "    pickle.dump(corpus_dfs, f)"
   ]
  },
  {
   "cell_type": "markdown",
   "metadata": {},
   "source": [
    "See the next notebook, `NLP_&_Modeling.ipynb`, for, well, NLP & modeling!"
   ]
  }
 ],
 "metadata": {
  "kernelspec": {
   "display_name": "Python 3",
   "language": "python",
   "name": "python3"
  },
  "language_info": {
   "codemirror_mode": {
    "name": "ipython",
    "version": 3
   },
   "file_extension": ".py",
   "mimetype": "text/x-python",
   "name": "python",
   "nbconvert_exporter": "python",
   "pygments_lexer": "ipython3",
   "version": "3.6.6"
  }
 },
 "nbformat": 4,
 "nbformat_minor": 2
}
